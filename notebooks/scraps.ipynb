{
 "cells": [
  {
   "cell_type": "code",
   "execution_count": null,
   "metadata": {},
   "outputs": [],
   "source": [
    "import stat_arb\n",
    "from stat_arb.model.data.simulated_data_handler import SimulatedDataHandler\n",
    "import matplotlib.pyplot as plt\n",
    "import datetime as dt\n",
    "import statsmodels.api as sm\n",
    "import pandas as pd\n",
    "\n",
    "plt.style.use(\"seaborn-v0_8\")"
   ]
  },
  {
   "cell_type": "code",
   "execution_count": null,
   "metadata": {},
   "outputs": [],
   "source": [
    "tickers = [\"^SPX\", \"DUMMY\"]\n",
    "start = dt.date(2020, 1, 1)\n",
    "end = dt.date(2025, 1, 8)\n",
    "live = dt.date(2025, 1, 6)\n",
    "\n",
    "data = SimulatedDataHandler(tickers, start, end, corr=0.9)\n",
    "\n",
    "ts = data.get_close_prices()\n",
    "\n",
    "ts.plot();"
   ]
  },
  {
   "cell_type": "code",
   "execution_count": null,
   "metadata": {},
   "outputs": [],
   "source": [
    "from statsmodels.regression.rolling import RollingOLS\n",
    "\n",
    "ts = sm.add_constant(ts)"
   ]
  },
  {
   "cell_type": "code",
   "execution_count": null,
   "metadata": {},
   "outputs": [],
   "source": [
    "ts"
   ]
  },
  {
   "cell_type": "code",
   "execution_count": null,
   "metadata": {},
   "outputs": [],
   "source": [
    "ols = RollingOLS(ts[[\"^SPX\"]], ts[[\"const\", \"DUMMY\"]], window=252)\n",
    "ols = ols.fit()\n"
   ]
  },
  {
   "cell_type": "code",
   "execution_count": null,
   "metadata": {},
   "outputs": [],
   "source": [
    "ols.params.plot()"
   ]
  },
  {
   "cell_type": "code",
   "execution_count": null,
   "metadata": {},
   "outputs": [],
   "source": [
    "fig, ax = plt.subplots(2,1)\n",
    "ax[0].plot(ts[tickers])\n",
    "ax[1].plot(ols.params)\n",
    "ax[0].legend(loc=\"upper right\")\n"
   ]
  },
  {
   "cell_type": "code",
   "execution_count": null,
   "metadata": {},
   "outputs": [],
   "source": [
    "regression = ols.params[\"const\"] * ts[\"const\"] + ols.params[\"DUMMY\"] * ts[\"DUMMY\"]\n",
    "\n",
    "df =pd.concat((ts, regression), axis=1)\n",
    "df.rename(columns={0:\"Regression\"}, inplace=True)\n",
    "df[\"resids\"] = df[\"^SPX\"] - df[\"Regression\"]\n",
    "df\n"
   ]
  },
  {
   "cell_type": "code",
   "execution_count": null,
   "metadata": {},
   "outputs": [],
   "source": [
    "df[\"resids\"].plot();"
   ]
  },
  {
   "cell_type": "code",
   "execution_count": null,
   "metadata": {},
   "outputs": [],
   "source": [
    "from statsmodels.tsa.stattools import coint\n",
    "\n",
    "cadf = coint(ts[\"^SPX\"], ts[\"DUMMY\"], return_results=True)\n",
    "cadf"
   ]
  },
  {
   "cell_type": "code",
   "execution_count": null,
   "metadata": {},
   "outputs": [],
   "source": [
    "from statsmodels.tsa.stattools import adfuller\n",
    "import statsmodels.api as sm\n",
    "\n",
    "ols = sm.OLS(ts[\"^SPX\"], sm.add_constant(ts[\"DUMMY\"]))\n",
    "ols = ols.fit()\n",
    "adfuller(ols.resid)"
   ]
  },
  {
   "cell_type": "code",
   "execution_count": null,
   "metadata": {},
   "outputs": [],
   "source": []
  },
  {
   "cell_type": "code",
   "execution_count": null,
   "metadata": {},
   "outputs": [],
   "source": [
    "from stat_arb.model.bivariate_engle_granger import BivariateEngleGranger\n",
    "from stat_arb.model.data.data_handler_enum import DataHandlerEnum\n",
    "from stat_arb.model.trading_strategy import StrategyEnum\n",
    "from stat_arb.model.trading_strategy import ToyStrategyInputs \n",
    "import datetime as dt\n",
    "\n",
    "ticker_a = \"MSFT\"\n",
    "ticker_b = \"AMZN\"\n",
    "start = dt.date(2020, 1, 1)\n",
    "end = dt.date(2025, 1, 8)\n",
    "live = dt.date(2025, 1, 6)\n",
    "source = DataHandlerEnum.SIMULATED\n",
    "model = BivariateEngleGranger(ticker_a, ticker_b, start, end, live, source)\n",
    "\n",
    "\n",
    "strategy_type = StrategyEnum.ToyStrategy\n",
    "strategy_inputs = ToyStrategyInputs(1,0)\n",
    "\n",
    "df = model.run(strategy_type, strategy_inputs)"
   ]
  },
  {
   "cell_type": "code",
   "execution_count": null,
   "metadata": {},
   "outputs": [],
   "source": [
    "df.get_backtest()"
   ]
  },
  {
   "cell_type": "code",
   "execution_count": null,
   "metadata": {},
   "outputs": [],
   "source": [
    "model.get_data()\n",
    "\n",
    "model.get_residual().plot()"
   ]
  },
  {
   "cell_type": "code",
   "execution_count": null,
   "metadata": {},
   "outputs": [],
   "source": [
    "import pandas as pd\n",
    "\n",
    "link = r\"https://en.wikipedia.org/wiki/List_of_S%26P_500_companies\"\n",
    "\n",
    "wiki = pd.read_html(link)"
   ]
  },
  {
   "cell_type": "code",
   "execution_count": null,
   "metadata": {},
   "outputs": [],
   "source": [
    "wiki[0][\"Symbol\"].to_csv(\"tickers_20250418.csv\", index=False)"
   ]
  },
  {
   "cell_type": "code",
   "execution_count": null,
   "metadata": {},
   "outputs": [],
   "source": [
    "from matplotlib import legend\n",
    "from plotly.subplots import make_subplots\n",
    "import plotly.graph_objects as go\n",
    "import plotly.express as px\n",
    "import pandas as pd\n",
    "\n",
    "df = px.data.stocks()\n",
    "\n",
    "fig1 = px.line(df, x=\"date\", y=[\"GOOG\", \"AAPL\"], title=\"GOOG\")\n",
    "fig2 = px.line(df, x=\"date\", y=[\"GOOG\", \"AAPL\"], title=\"AAPL\")\n",
    "\n",
    "fig = make_subplots(rows=2, cols=1, subplot_titles=(\"GOOG\", \"AAPL\"))\n",
    "\n",
    "fig.add_traces(fig1.data, rows=1, cols=1)\n",
    "fig.add_traces(fig2.data, rows=2, cols=1)\n",
    "\n",
    "fig.update_layout(title=\"Stock Prices\", height=900, width=900)\n",
    "\n"
   ]
  },
  {
   "cell_type": "code",
   "execution_count": null,
   "metadata": {},
   "outputs": [],
   "source": [
    "from matplotlib import legend\n",
    "from plotly.subplots import make_subplots\n",
    "import plotly.graph_objects as go\n",
    "import plotly.express as px\n",
    "import pandas as pd\n",
    "\n",
    "df = px.data.stocks()\n",
    "\n",
    "fig1 = px.line(df, x=\"date\", y=[\"GOOG\", \"AAPL\"], title=\"GOOG\")\n",
    "fig2 = px.line(df, x=\"date\", y=[\"GOOG\", \"AAPL\"], title=\"AAPL\")\n",
    "\n",
    "fig = make_subplots(rows=2, cols=1, subplot_titles=(\"GOOG\", \"AAPL\"))\n",
    "\n",
    "fig.add_traces(fig1.data, rows=1, cols=1)\n",
    "fig.add_traces(fig2.data, rows=2, cols=1)\n",
    "\n",
    "fig.update_layout(title=\"Stock Prices\", height=900, width=900)\n"
   ]
  },
  {
   "cell_type": "code",
   "execution_count": null,
   "metadata": {},
   "outputs": [],
   "source": [
    "import numpy as np\n",
    "import pandas as pd\n",
    "\n",
    "x = np.random.normal(size=[100])\n",
    "x = x.cumsum()\n",
    "\n",
    "df = pd.DataFrame(x, columns=[\"Residual\"])\n",
    "\n",
    "def enter_signal(a, enter):\n",
    "    if a < (-enter):\n",
    "        return -1  # enter long\n",
    "    elif a > (enter):\n",
    "        return 1  # enter short\n",
    "    else: \n",
    "        return 0\n",
    "    \n",
    "def exit_signal(a, exit):\n",
    "    if a > exit:\n",
    "        return -1 #\"exit long\"\n",
    "    elif a < (-exit):\n",
    "        return 1 #\"exit short\"\n",
    "    else:\n",
    "        return 0\n",
    "    \n",
    "def signal(a, enter, exit):\n",
    "    if a < -enter:\n",
    "        return 1\n",
    "    elif a > enter:\n",
    "        return -1\n",
    "    elif abs(a) < exit:\n",
    "        return 0\n",
    "    else:\n",
    "        return None\n",
    "\n",
    "enter = 1\n",
    "exit = 0.2\n",
    "\n",
    "df[\"LongEntrySignal\"] = df[\"Residual\"] < -enter\n",
    "df[\"ShortEntrySignal\"] = df[\"Residual\"] > enter\n",
    "df[\"LongExitSignal\"] = df[\"Residual\"] > -exit\n",
    "df[\"ShortExitSignal\"] = df[\"Residual\"] < exit\n",
    "\n",
    "#df[\"ExitSignal\"] = df[\"Residual\"] < abs(exit)\n",
    "# df[\"ExitSignal\"] = df[\"Residual\"].apply(lambda x: exit_signal(x, 0))\n",
    "# df[\"Signal\"] = df[\"Residual\"].apply(lambda x: signal(x, 2, 0.0))\n",
    "\n",
    "current_signal = 0\n",
    "signals = []\n",
    "\n",
    "for index, row in df.iterrows():\n",
    "    if current_signal == 0:\n",
    "        if row[\"LongEntrySignal\"]:\n",
    "            new_signal = 1\n",
    "        elif row[\"ShortEntrySignal\"]:\n",
    "            new_signal = -1\n",
    "        else:\n",
    "            new_signal = 0\n",
    "    elif current_signal == 1:\n",
    "        if row[\"ShortEntrySignal\"]:\n",
    "            new_signal = -1\n",
    "        elif row[\"LongExitSignal\"]:\n",
    "            new_signal = 0\n",
    "        else:\n",
    "            new_signal = 1\n",
    "    else:  # current_signal == -1\n",
    "        if row[\"LongEntrySignal\"]:\n",
    "            new_signal = 1\n",
    "        elif row[\"ShortExitSignal\"]:\n",
    "            new_signal = 0\n",
    "        else:\n",
    "            new_signal = -1\n",
    "\n",
    "    current_signal = new_signal\n",
    "    signals.append(new_signal)\n",
    "\n",
    "df[\"Signal\"] = signals\n",
    "\n",
    "#df[\"Signal\"] = df[\"Signal\"].ffill().fillna(0)\n",
    "\n",
    "df.plot()"
   ]
  },
  {
   "cell_type": "code",
   "execution_count": null,
   "metadata": {},
   "outputs": [],
   "source": [
    "import numpy as np\n",
    "import pandas as pd\n",
    "\n",
    "x = np.random.normal(size=[1000])\n",
    "x = x.cumsum()\n",
    "\n",
    "df = pd.DataFrame(x, columns=[\"Residual\"])\n",
    "\n",
    "window = 90\n",
    "\n",
    "df[\"Z-Score\"] = (df[\"Residual\"] - df[\"Residual\"].rolling(window).mean()) / df[\"Residual\"].rolling(window).std()\n",
    "\n",
    "enter = 1\n",
    "exit = 0.2\n",
    "\n",
    "df[\"LongEntrySignal\"] = df[\"Z-Score\"] < -enter\n",
    "df[\"ShortEntrySignal\"] = df[\"Z-Score\"] > enter\n",
    "df[\"LongExitSignal\"] = df[\"Z-Score\"] > -exit\n",
    "df[\"ShortExitSignal\"] = df[\"Z-Score\"] < exit\n",
    "\n",
    "\n",
    "current_signal = 0\n",
    "signals = []\n",
    "\n",
    "for index, row in df.iterrows():\n",
    "    if current_signal == 0:\n",
    "        if row[\"LongEntrySignal\"]:\n",
    "            new_signal = 1\n",
    "        elif row[\"ShortEntrySignal\"]:\n",
    "            new_signal = -1\n",
    "        else:\n",
    "            new_signal = 0\n",
    "    elif current_signal == 1:\n",
    "        if row[\"ShortEntrySignal\"]:\n",
    "            new_signal = -1\n",
    "        elif row[\"LongExitSignal\"]:\n",
    "            new_signal = 0\n",
    "        else:\n",
    "            new_signal = 1\n",
    "    else:  # current_signal == -1\n",
    "        if row[\"LongEntrySignal\"]:\n",
    "            new_signal = 1\n",
    "        elif row[\"ShortExitSignal\"]:\n",
    "            new_signal = 0\n",
    "        else:\n",
    "            new_signal = -1\n",
    "\n",
    "    current_signal = new_signal\n",
    "    signals.append(new_signal)\n",
    "\n",
    "df[\"Signal\"] = signals\n",
    "\n",
    "#df[\"Signal\"] = df[\"Signal\"].ffill().fillna(0)\n",
    "\n",
    "df.plot()"
   ]
  },
  {
   "cell_type": "code",
   "execution_count": null,
   "metadata": {},
   "outputs": [],
   "source": [
    "pd.set_option('display.max_rows', 1000)\n",
    "\n",
    "df"
   ]
  },
  {
   "cell_type": "code",
   "execution_count": null,
   "metadata": {},
   "outputs": [],
   "source": [
    "from stat_arb.model.bivariate_engle_granger import BivariateEngleGranger\n",
    "from stat_arb.model.data.data_handler_enum import DataHandlerEnum\n",
    "import plotly.express as px\n",
    "import datetime as dt\n",
    "\n",
    "ticker_a = \"MSFT\"\n",
    "ticker_b = \"AMZN\"\n",
    "start = dt.date(2020, 1, 1)\n",
    "end = dt.date(2025, 1, 8)\n",
    "live = dt.date(2025, 1, 6)\n",
    "source = DataHandlerEnum.SIMULATED\n",
    "model = BivariateEngleGranger(ticker_a, ticker_b, start, end, live, source)\n",
    "ts = model.get_close_prices()"
   ]
  }
 ],
 "metadata": {
  "kernelspec": {
   "display_name": ".venv",
   "language": "python",
   "name": "python3"
  },
  "language_info": {
   "codemirror_mode": {
    "name": "ipython",
    "version": 3
   },
   "file_extension": ".py",
   "mimetype": "text/x-python",
   "name": "python",
   "nbconvert_exporter": "python",
   "pygments_lexer": "ipython3",
   "version": "3.12.7"
  }
 },
 "nbformat": 4,
 "nbformat_minor": 2
}
