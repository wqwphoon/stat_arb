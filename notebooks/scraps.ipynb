{
 "cells": [
  {
   "cell_type": "code",
   "execution_count": null,
   "metadata": {},
   "outputs": [],
   "source": [
    "import stat_arb\n",
    "from stat_arb.model.data.simulated_data_handler import SimulatedDataHandler\n",
    "import matplotlib.pyplot as plt\n",
    "import datetime as dt\n",
    "import statsmodels.api as sm\n",
    "import pandas as pd\n",
    "\n",
    "plt.style.use(\"seaborn-v0_8\")"
   ]
  },
  {
   "cell_type": "code",
   "execution_count": null,
   "metadata": {},
   "outputs": [],
   "source": [
    "tickers = [\"^SPX\", \"DUMMY\"]\n",
    "start = dt.date(2020, 1, 1)\n",
    "end = dt.date(2025, 1, 8)\n",
    "live = dt.date(2025, 1, 6)\n",
    "\n",
    "data = SimulatedDataHandler(tickers, start, end, corr=0.9)\n",
    "\n",
    "ts = data.get_normalised_close_prices()\n",
    "\n",
    "ts.plot();"
   ]
  },
  {
   "cell_type": "code",
   "execution_count": null,
   "metadata": {},
   "outputs": [],
   "source": [
    "from statsmodels.regression.rolling import RollingOLS\n",
    "\n",
    "ts = sm.add_constant(ts)"
   ]
  },
  {
   "cell_type": "code",
   "execution_count": null,
   "metadata": {},
   "outputs": [],
   "source": [
    "ts"
   ]
  },
  {
   "cell_type": "code",
   "execution_count": null,
   "metadata": {},
   "outputs": [],
   "source": [
    "ols = RollingOLS(ts[[\"^SPX\"]], ts[[\"const\", \"DUMMY\"]], window=252)\n",
    "ols = ols.fit()\n"
   ]
  },
  {
   "cell_type": "code",
   "execution_count": null,
   "metadata": {},
   "outputs": [],
   "source": [
    "ols.params.plot()"
   ]
  },
  {
   "cell_type": "code",
   "execution_count": null,
   "metadata": {},
   "outputs": [],
   "source": [
    "fig, ax = plt.subplots(2,1)\n",
    "ax[0].plot(ts[tickers])\n",
    "ax[1].plot(ols.params)\n",
    "ax[0].legend(loc=\"upper right\")\n"
   ]
  },
  {
   "cell_type": "code",
   "execution_count": null,
   "metadata": {},
   "outputs": [],
   "source": [
    "regression = ols.params[\"const\"] * ts[\"const\"] + ols.params[\"DUMMY\"] * ts[\"DUMMY\"]\n",
    "\n",
    "df =pd.concat((ts, regression), axis=1)\n",
    "df.rename(columns={0:\"Regression\"}, inplace=True)\n",
    "df[\"resids\"] = df[\"^SPX\"] - df[\"Regression\"]\n",
    "df\n"
   ]
  },
  {
   "cell_type": "code",
   "execution_count": null,
   "metadata": {},
   "outputs": [],
   "source": [
    "df[\"resids\"].plot();"
   ]
  },
  {
   "cell_type": "code",
   "execution_count": null,
   "metadata": {},
   "outputs": [],
   "source": [
    "from statsmodels.tsa.stattools import coint\n",
    "\n",
    "cadf = coint(ts[\"^SPX\"], ts[\"DUMMY\"], return_results=True)\n",
    "cadf"
   ]
  },
  {
   "cell_type": "code",
   "execution_count": null,
   "metadata": {},
   "outputs": [],
   "source": [
    "from statsmodels.tsa.stattools import adfuller\n",
    "import statsmodels.api as sm\n",
    "\n",
    "ols = sm.OLS(ts[\"^SPX\"], sm.add_constant(ts[\"DUMMY\"]))\n",
    "ols = ols.fit()\n",
    "adfuller(ols.resid)"
   ]
  },
  {
   "cell_type": "code",
   "execution_count": null,
   "metadata": {},
   "outputs": [],
   "source": []
  },
  {
   "cell_type": "code",
   "execution_count": null,
   "metadata": {},
   "outputs": [],
   "source": [
    "from stat_arb.model.bivariate_engle_granger import BivariateEngleGranger\n",
    "from stat_arb.model.data.data_handler_enum import DataHandlerEnum\n",
    "import plotly.express as px\n",
    "\n",
    "ticker_a = \"^SPX\"\n",
    "ticker_b = \"AMZN\"\n",
    "start = dt.date(2020, 1, 1)\n",
    "end = dt.date(2025, 1, 8)\n",
    "live = dt.date(2025, 1, 6)\n",
    "source = DataHandlerEnum.SIMULATED\n",
    "model = BivariateEngleGranger(ticker_a, ticker_b, start, end, live, source)\n",
    "ts = model.get_data()\n",
    "px.line(ts)"
   ]
  },
  {
   "cell_type": "code",
   "execution_count": null,
   "metadata": {},
   "outputs": [],
   "source": [
    "model.get_data()\n",
    "\n",
    "model.get_residual().plot()"
   ]
  },
  {
   "cell_type": "code",
   "execution_count": null,
   "metadata": {},
   "outputs": [],
   "source": [
    "import pandas as pd\n",
    "\n",
    "link = r\"https://en.wikipedia.org/wiki/List_of_S%26P_500_companies\"\n",
    "\n",
    "wiki = pd.read_html(link)"
   ]
  },
  {
   "cell_type": "code",
   "execution_count": null,
   "metadata": {},
   "outputs": [],
   "source": [
    "wiki[0][\"Symbol\"].to_csv(\"tickers_20250418.csv\", index=False)"
   ]
  },
  {
   "cell_type": "code",
   "execution_count": null,
   "metadata": {},
   "outputs": [],
   "source": [
    "from matplotlib import legend\n",
    "from plotly.subplots import make_subplots\n",
    "import plotly.graph_objects as go\n",
    "import plotly.express as px\n",
    "import pandas as pd\n",
    "\n",
    "df = px.data.stocks()\n",
    "\n",
    "fig1 = px.line(df, x=\"date\", y=[\"GOOG\", \"AAPL\"], title=\"GOOG\")\n",
    "fig2 = px.line(df, x=\"date\", y=[\"GOOG\", \"AAPL\"], title=\"AAPL\")\n",
    "\n",
    "fig = make_subplots(rows=2, cols=1, subplot_titles=(\"GOOG\", \"AAPL\"))\n",
    "\n",
    "fig.add_traces(fig1.data, rows=1, cols=1)\n",
    "fig.add_traces(fig2.data, rows=2, cols=1)\n",
    "\n",
    "fig.update_layout(title=\"Stock Prices\", height=900, width=900)\n"
   ]
  },
  {
   "cell_type": "code",
   "execution_count": null,
   "metadata": {},
   "outputs": [],
   "source": [
    "df.set_index(\"date\", inplace=True)"
   ]
  },
  {
   "cell_type": "code",
   "execution_count": null,
   "metadata": {},
   "outputs": [],
   "source": [
    "px.line(df,y=\"GOOG\")"
   ]
  },
  {
   "cell_type": "code",
   "execution_count": null,
   "metadata": {},
   "outputs": [],
   "source": []
  },
  {
   "cell_type": "code",
   "execution_count": null,
   "metadata": {},
   "outputs": [],
   "source": []
  },
  {
   "cell_type": "code",
   "execution_count": null,
   "metadata": {},
   "outputs": [],
   "source": []
  }
 ],
 "metadata": {
  "kernelspec": {
   "display_name": ".venv",
   "language": "python",
   "name": "python3"
  },
  "language_info": {
   "codemirror_mode": {
    "name": "ipython",
    "version": 3
   },
   "file_extension": ".py",
   "mimetype": "text/x-python",
   "name": "python",
   "nbconvert_exporter": "python",
   "pygments_lexer": "ipython3",
   "version": "3.12.7"
  }
 },
 "nbformat": 4,
 "nbformat_minor": 2
}
